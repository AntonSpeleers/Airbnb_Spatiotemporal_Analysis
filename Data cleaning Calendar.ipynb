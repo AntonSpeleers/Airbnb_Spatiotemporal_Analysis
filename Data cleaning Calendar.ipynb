{
 "cells": [
  {
   "cell_type": "code",
   "execution_count": null,
   "id": "344f6f38",
   "metadata": {},
   "outputs": [],
   "source": [
    "import pandas as pd\n",
    "import matplotlib\n",
    "import matplotlib.pyplot as plt\n",
    "import matplotlib.cm as cmx\n",
    "import matplotlib.colors as colors\n",
    "import numpy as np\n",
    "%matplotlib inline\n",
    "\n",
    "#reading in the data\n",
    "file_path = 'C:/Users/anton/Documents/2de_master/Thesis/Code/analysis/Data/2. airbnb_data/Paris/Q1 airbnb_data Paris/calendar/calendar.csv'\n",
    "data = pd.read_csv(file_path)"
   ]
  },
  {
   "cell_type": "code",
   "execution_count": null,
   "id": "39275c88",
   "metadata": {},
   "outputs": [],
   "source": [
    "#making sure the price and adjusted_price columns is correctly given in numerical form in the dataset\n",
    "data['price'] = data['price'].replace('[\\$,]', '', regex=True).astype(float)\n",
    "data['adjusted_price'] = data['adjusted_price'].replace('[\\$,]', '', regex=True).astype(float)\n",
    "data['date']=pd.to_datetime(data['date'])\n",
    "data['weekday'] = pd.Series(data.date).dt.dayofweek\n",
    "data.head()"
   ]
  },
  {
   "cell_type": "code",
   "execution_count": null,
   "id": "a2be4848",
   "metadata": {},
   "outputs": [],
   "source": [
    "#removing the missing values from the dataset after seeing that there are not that many missing values\n",
    "data.dropna(inplace=True)\n",
    "print(data.isnull().mean())"
   ]
  },
  {
   "cell_type": "code",
   "execution_count": null,
   "id": "edcbbf7a",
   "metadata": {},
   "outputs": [],
   "source": [
    "# Check if 'price' and 'adjusted_price' are always the same\n",
    "are_equal = (data['price'] == data['adjusted_price']).all()\n",
    "if are_equal:\n",
    "    print(\"The 'price' and 'adjusted_price' columns always have the same values.\")\n",
    "else:\n",
    "    print(\"There are differences between 'price' and 'adjusted_price' values.\")"
   ]
  }
 ],
 "metadata": {
  "kernelspec": {
   "display_name": "Python 3 (ipykernel)",
   "language": "python",
   "name": "python3"
  },
  "language_info": {
   "codemirror_mode": {
    "name": "ipython",
    "version": 3
   },
   "file_extension": ".py",
   "mimetype": "text/x-python",
   "name": "python",
   "nbconvert_exporter": "python",
   "pygments_lexer": "ipython3",
   "version": "3.11.5"
  }
 },
 "nbformat": 4,
 "nbformat_minor": 5
}
