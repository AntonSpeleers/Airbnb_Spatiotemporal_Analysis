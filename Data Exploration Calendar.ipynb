{
 "cells": [
  {
   "cell_type": "code",
   "execution_count": null,
   "id": "00833e5a",
   "metadata": {},
   "outputs": [],
   "source": [
    "import pandas as pd\n",
    "import matplotlib\n",
    "import matplotlib.pyplot as plt\n",
    "import matplotlib.cm as cmx\n",
    "import matplotlib.colors as colors\n",
    "import seaborn as sb\n",
    "import numpy as np\n",
    "import datetime as dt\n",
    "import csv\n",
    "from datetime import datetime\n",
    "%matplotlib inline\n",
    "\n",
    "\n",
    "# Taking average/median values as well as plotting\n",
    "date = []\n",
    "avg_price = []\n",
    "median_price = []\n",
    "avg_adjusted_price = []\n",
    "median_adjusted_price = []\n",
    "\n",
    "for i in data['date'].unique():\n",
    "    date.append(i)\n",
    "    avg_price.append(data[data['date'] == i]['price'].mean())\n",
    "    median_price.append(data[data['date'] == i]['price'].median())\n",
    "    avg_adjusted_price.append(data[data['date'] == i]['adjusted_price'].mean())\n",
    "    median_adjusted_price.append(data[data['date'] == i]['adjusted_price'].median())\n",
    "\n",
    "plt.plot(range(len(avg_price)), avg_price, label=\"Average Price\")\n",
    "plt.plot(range(len(avg_price)), median_price, color='red', label=\"Median Price\")\n",
    "plt.plot(range(len(avg_adjusted_price)), avg_adjusted_price, label=\"Average Adjusted Price\")\n",
    "plt.plot(range(len(avg_adjusted_price)), median_adjusted_price, color='green', label=\"Median Adjusted Price\")\n",
    "\n",
    "plt.ylabel('Price($)')\n",
    "plt.xlabel('Day of Q1 2023 - Q1 2024')\n",
    "plt.title('Average and Median Price of Q1 2023 - Q1 2024 AirBnB Listings Paris')\n",
    "plt.legend()\n",
    "plt.show()"
   ]
  },
  {
   "cell_type": "code",
   "execution_count": null,
   "id": "85691ed3",
   "metadata": {},
   "outputs": [],
   "source": [
    "#Doing the same but only for the first 70 days\n",
    "plt.plot(range(len(avg_price[0:70])), avg_price[0:70], label=\"Average Price\")\n",
    "plt.plot(range(len(avg_price[0:70])), median_price[0:70], color='red', label=\"Median Price\")\n",
    "plt.plot(range(len(avg_adjusted_price[0:70])), avg_adjusted_price[0:70], label=\"Average Adjusted Price\")\n",
    "plt.plot(range(len(avg_adjusted_price[0:70])), median_adjusted_price[0:70], color='green', label=\"Median Adjusted Price\")\n",
    "\n",
    "plt.ylabel('Price($)')\n",
    "plt.xlabel('Day of Q1 2023 - Q1 2024')\n",
    "plt.title('Average and Median Price of First 70 Days of AirBnB Listings')\n",
    "plt.legend()\n",
    "plt.show()"
   ]
  },
  {
   "cell_type": "code",
   "execution_count": null,
   "id": "8ba68e34",
   "metadata": {},
   "outputs": [],
   "source": [
    "#looking at which day is the most expensive on average and median\n",
    "daily_avg_price = []\n",
    "daily_median_price = []\n",
    "b = ['Mon', 'Tue', 'Wed', 'Thu', 'Fri', 'Sat', 'Sun']\n",
    "\n",
    "for i in range(7):\n",
    "    daily_avg_price.append(data[data['weekday'] == i]['price'].mean())\n",
    "    daily_median_price.append(data[data['weekday'] == i]['price'].median())\n",
    "\n",
    "plt.bar(range(len(daily_avg_price)), daily_avg_price, width=1 / 1.5, label=\"Average Price\")\n",
    "plt.bar(range(len(daily_median_price)), daily_median_price, width=1 / 1.5, color='red', label=\"Median Price\")\n",
    "\n",
    "plt.xticks(range(len(daily_avg_price)), b)\n",
    "plt.ylabel('Price($)')\n",
    "plt.xlabel('Day of the Week')\n",
    "plt.title('Average and Median Price per Day of the Week')\n",
    "plt.legend()\n",
    "plt.show()\n",
    "\n",
    "for i in range(7):\n",
    "    avg_price = data[data['weekday'] == i]['price'].mean()\n",
    "    median_price = data[data['weekday'] == i]['price'].median()\n",
    "    \n",
    "    daily_avg_price.append(avg_price)\n",
    "    daily_median_price.append(median_price)\n",
    "\n",
    "    print(f\"{b[i]} - Average Price: ${avg_price:.2f}, Median Price: ${median_price:.2f}\")"
   ]
  }
 ],
 "metadata": {
  "kernelspec": {
   "display_name": "Python 3 (ipykernel)",
   "language": "python",
   "name": "python3"
  },
  "language_info": {
   "codemirror_mode": {
    "name": "ipython",
    "version": 3
   },
   "file_extension": ".py",
   "mimetype": "text/x-python",
   "name": "python",
   "nbconvert_exporter": "python",
   "pygments_lexer": "ipython3",
   "version": "3.11.5"
  }
 },
 "nbformat": 4,
 "nbformat_minor": 5
}
