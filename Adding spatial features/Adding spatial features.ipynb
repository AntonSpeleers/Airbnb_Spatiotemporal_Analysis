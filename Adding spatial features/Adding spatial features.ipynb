{
 "cells": [
  {
   "cell_type": "code",
   "execution_count": 1,
   "id": "755b86d7",
   "metadata": {},
   "outputs": [],
   "source": [
    "import pandas as pd\n",
    "\n",
    "#insert file_path for the data\n",
    "file_path = 'C:/Users/anton/Documents/2de_master/Thesis/Code/analysis/Code/Airbnb_Spatiotemporal_Analysis/Random Forest model/data_RF.xlsx'\n",
    "#read data, and quickly check if it is correctly read in\n",
    "dataframe1= pd.read_excel(file_path)"
   ]
  },
  {
   "cell_type": "code",
   "execution_count": 2,
   "id": "25ec6b07",
   "metadata": {},
   "outputs": [],
   "source": [
    "import pandas as pd\n",
    "from geopy.distance import great_circle\n",
    "\n",
    "# Define the monuments and their coordinates\n",
    "monuments = {\n",
    "    \"Eiffel Tower\": (48.8584, 2.2945),\n",
    "    \"Louvre Museum\": (48.8606, 2.3376),\n",
    "    \"Notre-Dame Cathedral\": (48.8529, 2.3500),\n",
    "    \"Sacré-Cœur Basilica\": (48.8867, 2.3431),\n",
    "    \"Arc de Triomphe\": (48.8738, 2.2950)\n",
    "}\n",
    "\n",
    "# Calculate distances and add as new columns\n",
    "for monument, coords in monuments.items():\n",
    "    dataframe1[monument + ' Distance'] = dataframe1.apply(lambda row: great_circle((row['latitude'], row['longitude']), coords).kilometers,axis=1)\n",
    "\n",
    "# Now data_copy_clean has new columns with distances to each monument"
   ]
  },
  {
   "cell_type": "code",
   "execution_count": 3,
   "id": "8a2824bc",
   "metadata": {},
   "outputs": [
    {
     "data": {
      "text/plain": [
       "0    5.205795\n",
       "1    4.557102\n",
       "2    3.470496\n",
       "3    4.209802\n",
       "4    5.665470\n",
       "Name: Arc de Triomphe Distance, dtype: float64"
      ]
     },
     "execution_count": 3,
     "metadata": {},
     "output_type": "execute_result"
    }
   ],
   "source": [
    "#checking if it is added\n",
    "dataframe1.iloc[:, -1].head()"
   ]
  },
  {
   "cell_type": "code",
   "execution_count": 4,
   "id": "83fb08c1",
   "metadata": {},
   "outputs": [
    {
     "data": {
      "text/plain": [
       "0    3.062688\n",
       "1    2.303104\n",
       "2    1.006867\n",
       "3    2.220684\n",
       "4    2.210306\n",
       "Name: distance_to_Hopital Lariboisiere, dtype: float64"
      ]
     },
     "execution_count": 4,
     "metadata": {},
     "output_type": "execute_result"
    }
   ],
   "source": [
    "import pandas as pd\n",
    "import geopy.distance\n",
    "\n",
    "# Define coordinates for some major hospitals in Paris\n",
    "hospitals = {\n",
    "    \"Hopital Europeen Georges-Pompidou\": (48.8397, 2.2727),\n",
    "    \"Hopital Pitie-Salpetriere\": (48.8373, 2.3610),\n",
    "    \"Hopital Saint-Louis\": (48.8753, 2.3707),\n",
    "    \"Hopital Cochin\": (48.8375, 2.3365),\n",
    "    \"Hopital Lariboisiere\": (48.8798, 2.3532)\n",
    "}\n",
    "\n",
    "# Function to calculate the distance to a hospital\n",
    "def calculate_distance(lat, lon, hospital_coord):\n",
    "    return geopy.distance.distance((lat, lon), hospital_coord).km\n",
    "\n",
    "# Calculate distances from each listing to each hospital and create new columns\n",
    "for hospital_name, hospital_coord in hospitals.items():\n",
    "    column_name = f'distance_to_{hospital_name}'\n",
    "    dataframe1[column_name] = dataframe1.apply(lambda x: calculate_distance(x['latitude'], x['longitude'], hospital_coord), axis=1)\n",
    "\n",
    "#checking \n",
    "dataframe1.iloc[:, -1].head()"
   ]
  },
  {
   "cell_type": "code",
   "execution_count": 5,
   "id": "6a1f0b92",
   "metadata": {},
   "outputs": [
    {
     "data": {
      "text/plain": [
       "0    1.295757\n",
       "1    2.124960\n",
       "2    3.975908\n",
       "3    2.385346\n",
       "4    2.428269\n",
       "Name: distance_to_Gare d'Austerlitz, dtype: float64"
      ]
     },
     "execution_count": 5,
     "metadata": {},
     "output_type": "execute_result"
    }
   ],
   "source": [
    "import pandas as pd\n",
    "import geopy.distance\n",
    "\n",
    "# Define coordinates for major stations in Paris\n",
    "stations = {\n",
    "    \"Gare du Nord\": (48.8809, 2.3553),\n",
    "    \"Gare de l'Est\": (48.8763, 2.3592),\n",
    "    \"Gare Saint-Lazare\": (48.8768, 2.3254),\n",
    "    \"Gare de Lyon\": (48.8443, 2.3740),\n",
    "    \"Gare Montparnasse\": (48.8406, 2.3195),\n",
    "    \"Gare d'Austerlitz\": (48.8421, 2.3664)\n",
    "}\n",
    "\n",
    "# Function to calculate the distance to a station\n",
    "def calculate_distance(lat, lon, station_coord):\n",
    "    return geopy.distance.distance((lat, lon), station_coord).km\n",
    "\n",
    "# Calculate distances from each listing to each station and create new columns\n",
    "for station_name, station_coord in stations.items():\n",
    "    column_name = f'distance_to_{station_name}'\n",
    "    dataframe1[column_name] = dataframe1.apply(lambda x: calculate_distance(x['latitude'], x['longitude'], station_coord), axis=1)\n",
    "\n",
    "dataframe1.iloc[:, -1].head()"
   ]
  },
  {
   "cell_type": "code",
   "execution_count": 7,
   "id": "c6c1a756",
   "metadata": {},
   "outputs": [
    {
     "data": {
      "text/plain": [
       "0    1.839296\n",
       "1    1.606385\n",
       "2    2.448106\n",
       "3    1.371827\n",
       "4    3.008051\n",
       "Name: Distance_to_Saint-Germain-des-Prés, dtype: float64"
      ]
     },
     "execution_count": 7,
     "metadata": {},
     "output_type": "execute_result"
    }
   ],
   "source": [
    "import pandas as pd\n",
    "from geopy.distance import geodesic\n",
    "\n",
    "# Define the coordinates for districts in Paris\n",
    "district_coordinates = {\n",
    "    'Marais': (48.8592, 2.3583),\n",
    "    'Montmartre': (48.8867, 2.3431),\n",
    "    'Saint-Germain-des-Prés': (48.8530, 2.3333),\n",
    "    # Add more districts as needed\n",
    "}\n",
    "\n",
    "# Function to calculate distance between two coordinates\n",
    "def calculate_distance(listing_lat, listing_lon, district_coord):\n",
    "    listing_coord = (listing_lat, listing_lon)\n",
    "    return geodesic(listing_coord, district_coord).kilometers\n",
    "\n",
    "# Add columns for distance to each district\n",
    "for district, coord in district_coordinates.items():\n",
    "    dataframe1[f'Distance_to_{district}'] = dataframe1.apply(\n",
    "        lambda row: calculate_distance(row['latitude'], row['longitude'], coord),\n",
    "        axis=1\n",
    "    )\n",
    "\n",
    "dataframe1.iloc[:, -1].head()"
   ]
  },
  {
   "cell_type": "code",
   "execution_count": 9,
   "id": "a52144c4",
   "metadata": {},
   "outputs": [
    {
     "data": {
      "text/plain": [
       "0    6.048972\n",
       "1    5.250482\n",
       "2    3.488764\n",
       "3    5.092754\n",
       "4    5.169435\n",
       "Name: Distance_to_Marché aux Puces de Saint-Ouen, dtype: float64"
      ]
     },
     "execution_count": 9,
     "metadata": {},
     "output_type": "execute_result"
    }
   ],
   "source": [
    "import pandas as pd\n",
    "from geopy.distance import geodesic\n",
    "\n",
    "# Define the coordinates for shopping centers, markets, and retail districts\n",
    "shopping_coordinates = {\n",
    "    'Galeries Lafayette': (48.8738, 2.3325),  # Example coordinates, replace with actual values\n",
    "    'Le Bon Marché': (48.8505, 2.3289),        # Example coordinates, replace with actual values\n",
    "    'Marché aux Puces de Saint-Ouen': (48.9055, 2.3400),  # Example coordinates, replace with actual values\n",
    "    # Add more shopping destinations as needed\n",
    "}\n",
    "\n",
    "# Function to calculate distance between two coordinates\n",
    "def calculate_distance(listing_lat, listing_lon, shopping_coord):\n",
    "    listing_coord = (listing_lat, listing_lon)\n",
    "    return geodesic(listing_coord, shopping_coord).kilometers\n",
    "\n",
    "# Add columns for distance to each shopping destination\n",
    "for shopping_location, coord in shopping_coordinates.items():\n",
    "    dataframe1[f'Distance_to_{shopping_location}'] = dataframe1.apply(\n",
    "        lambda row: calculate_distance(row['latitude'], row['longitude'], coord),\n",
    "        axis=1\n",
    "    )\n",
    "\n",
    "dataframe1.iloc[:, -1].head()"
   ]
  },
  {
   "cell_type": "code",
   "execution_count": 10,
   "id": "55c7aa07",
   "metadata": {},
   "outputs": [],
   "source": [
    "#downloading the cleaned_dataset\n",
    "dataframe1.to_excel('Spatial_features_added.xlsx', index=False)"
   ]
  }
 ],
 "metadata": {
  "kernelspec": {
   "display_name": "Python 3 (ipykernel)",
   "language": "python",
   "name": "python3"
  },
  "language_info": {
   "codemirror_mode": {
    "name": "ipython",
    "version": 3
   },
   "file_extension": ".py",
   "mimetype": "text/x-python",
   "name": "python",
   "nbconvert_exporter": "python",
   "pygments_lexer": "ipython3",
   "version": "3.11.5"
  }
 },
 "nbformat": 4,
 "nbformat_minor": 5
}
