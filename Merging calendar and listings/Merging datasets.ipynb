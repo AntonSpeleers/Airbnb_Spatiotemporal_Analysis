{
 "cells": [
  {
   "cell_type": "code",
   "execution_count": 11,
   "id": "0272b714",
   "metadata": {},
   "outputs": [],
   "source": [
    "import pandas as pd\n",
    "import numpy as np\n",
    "\n",
    "# Assuming you have loaded your calendar dataset into a DataFrame named 'calendar_data'\n",
    "# Let's assume your 'calendar_data' has columns: 'listing_id', 'date', 'price', 'availability'\n",
    "\n",
    "\n",
    "# Extract season from date\n",
    "def get_season(month):\n",
    "    if month in [3, 4, 5]:\n",
    "        return 'Spring'\n",
    "    elif month in [6, 7, 8]:\n",
    "        return 'Summer'\n",
    "    elif month in [9, 10, 11]:\n",
    "        return 'Autumn'\n",
    "    else:\n",
    "        return 'Winter'\n",
    "\n",
    "#data is the cleaned_calendar dataset\n",
    "#inserting season in as a column\n",
    "data['season'] = data['date'].dt.month.map(get_season)\n",
    "\n",
    "# Group by listing_id and season, and randomly select one row from each group\n",
    "simplified_calendar_data = data.groupby(['listing_id', 'season']).apply(lambda x: x.sample(1)).reset_index(drop=True)\n",
    "\n",
    "# Now 'simplified_calendar_data' contains only one random day per season for each listing_id\n",
    "# Now you can use 'simplified_calendar_data' for further analysis\n",
    "\n",
    "#lastly we also drop the minimum_nights and maximum nights\n",
    "columns_to_drop = [\"minimum_nights\" , \"maximum_nights\", \"available\",\"adjusted_price\"]\n",
    "simplified_calendar_data = simplified_calendar_data.drop(columns_to_drop, axis=1)"
   ]
  },
  {
   "cell_type": "code",
   "execution_count": 12,
   "id": "4fcec95c",
   "metadata": {},
   "outputs": [
    {
     "data": {
      "text/html": [
       "<div>\n",
       "<style scoped>\n",
       "    .dataframe tbody tr th:only-of-type {\n",
       "        vertical-align: middle;\n",
       "    }\n",
       "\n",
       "    .dataframe tbody tr th {\n",
       "        vertical-align: top;\n",
       "    }\n",
       "\n",
       "    .dataframe thead th {\n",
       "        text-align: right;\n",
       "    }\n",
       "</style>\n",
       "<table border=\"1\" class=\"dataframe\">\n",
       "  <thead>\n",
       "    <tr style=\"text-align: right;\">\n",
       "      <th></th>\n",
       "      <th>listing_id</th>\n",
       "      <th>date</th>\n",
       "      <th>price</th>\n",
       "      <th>weekday</th>\n",
       "      <th>season</th>\n",
       "    </tr>\n",
       "  </thead>\n",
       "  <tbody>\n",
       "    <tr>\n",
       "      <th>0</th>\n",
       "      <td>5396</td>\n",
       "      <td>2023-09-06</td>\n",
       "      <td>530.0</td>\n",
       "      <td>2</td>\n",
       "      <td>Autumn</td>\n",
       "    </tr>\n",
       "    <tr>\n",
       "      <th>1</th>\n",
       "      <td>5396</td>\n",
       "      <td>2023-05-14</td>\n",
       "      <td>126.0</td>\n",
       "      <td>6</td>\n",
       "      <td>Spring</td>\n",
       "    </tr>\n",
       "    <tr>\n",
       "      <th>2</th>\n",
       "      <td>5396</td>\n",
       "      <td>2023-07-16</td>\n",
       "      <td>148.0</td>\n",
       "      <td>6</td>\n",
       "      <td>Summer</td>\n",
       "    </tr>\n",
       "    <tr>\n",
       "      <th>3</th>\n",
       "      <td>5396</td>\n",
       "      <td>2023-12-26</td>\n",
       "      <td>150.0</td>\n",
       "      <td>1</td>\n",
       "      <td>Winter</td>\n",
       "    </tr>\n",
       "    <tr>\n",
       "      <th>4</th>\n",
       "      <td>7397</td>\n",
       "      <td>2023-11-27</td>\n",
       "      <td>130.0</td>\n",
       "      <td>0</td>\n",
       "      <td>Autumn</td>\n",
       "    </tr>\n",
       "  </tbody>\n",
       "</table>\n",
       "</div>"
      ],
      "text/plain": [
       "   listing_id       date  price  weekday  season\n",
       "0        5396 2023-09-06  530.0        2  Autumn\n",
       "1        5396 2023-05-14  126.0        6  Spring\n",
       "2        5396 2023-07-16  148.0        6  Summer\n",
       "3        5396 2023-12-26  150.0        1  Winter\n",
       "4        7397 2023-11-27  130.0        0  Autumn"
      ]
     },
     "execution_count": 12,
     "metadata": {},
     "output_type": "execute_result"
    }
   ],
   "source": [
    "simplified_calendar_data.head()"
   ]
  },
  {
   "cell_type": "code",
   "execution_count": 13,
   "id": "730e6e25",
   "metadata": {},
   "outputs": [],
   "source": [
    "#renaming so that both datasets have the same column name\n",
    "simplified_calendar_data.rename(columns={'listing_id': 'id'}, inplace=True)"
   ]
  },
  {
   "cell_type": "code",
   "execution_count": 14,
   "id": "d03512ba",
   "metadata": {},
   "outputs": [],
   "source": [
    "# Assuming you have two DataFrames: simplified_calendar_data and listings_data\n",
    "# Let's assume 'dataframe1' has columns: 'listing_id', and other relevant features\n",
    "\n",
    "#dataframe1 is the cleaned_listings dataset\n",
    "# Merge the two datasets on 'id'\n",
    "merged_data = pd.merge(dataframe1, simplified_calendar_data, on='id', how='inner')\n",
    "\n",
    "# Now 'merged_data' contains the combined information from both datasets\n",
    "# You can proceed with your analysis using this merged dataset"
   ]
  },
  {
   "cell_type": "code",
   "execution_count": 15,
   "id": "d027c4f4",
   "metadata": {},
   "outputs": [
    {
     "name": "stdout",
     "output_type": "stream",
     "text": [
      "<class 'pandas.core.frame.DataFrame'>\n",
      "RangeIndex: 162321 entries, 0 to 162320\n",
      "Columns: 150 entries, id to season\n",
      "dtypes: bool(99), datetime64[ns](4), float64(14), int32(1), int64(23), object(9)\n",
      "memory usage: 77.9+ MB\n"
     ]
    }
   ],
   "source": [
    "merged_data.info()"
   ]
  },
  {
   "cell_type": "code",
   "execution_count": 16,
   "id": "feb5dc7b",
   "metadata": {},
   "outputs": [
    {
     "name": "stdout",
     "output_type": "stream",
     "text": [
      "id                    0.0\n",
      "host_id               0.0\n",
      "host_since            0.0\n",
      "host_response_time    0.0\n",
      "host_response_rate    0.0\n",
      "                     ... \n",
      "total_amenities       0.0\n",
      "date                  0.0\n",
      "price_y               0.0\n",
      "weekday               0.0\n",
      "season                0.0\n",
      "Length: 150, dtype: float64\n"
     ]
    }
   ],
   "source": [
    "print(merged_data.isnull().mean())"
   ]
  },
  {
   "cell_type": "code",
   "execution_count": 17,
   "id": "a5918895",
   "metadata": {},
   "outputs": [],
   "source": [
    "#removing the initial price column from the listings data and replacing it with the one sampled per season from the listign\n",
    "merged_data = merged_data.drop('price_x', axis=1)\n",
    "merged_data.rename(columns={'price_y': 'price'}, inplace=True)"
   ]
  },
  {
   "cell_type": "code",
   "execution_count": 18,
   "id": "88bf67e1",
   "metadata": {},
   "outputs": [],
   "source": [
    "#downloading the cleaned_dataset\n",
    "merged_data.to_excel('merged_data.xlsx', index=False)"
   ]
  }
 ],
 "metadata": {
  "kernelspec": {
   "display_name": "Python 3 (ipykernel)",
   "language": "python",
   "name": "python3"
  },
  "language_info": {
   "codemirror_mode": {
    "name": "ipython",
    "version": 3
   },
   "file_extension": ".py",
   "mimetype": "text/x-python",
   "name": "python",
   "nbconvert_exporter": "python",
   "pygments_lexer": "ipython3",
   "version": "3.11.5"
  }
 },
 "nbformat": 4,
 "nbformat_minor": 5
}
